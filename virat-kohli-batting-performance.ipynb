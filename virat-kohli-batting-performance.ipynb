{
 "cells": [
  {
   "cell_type": "markdown",
   "metadata": {
    "papermill": {
     "duration": 0.025899,
     "end_time": "2021-03-14T17:32:04.696979",
     "exception": false,
     "start_time": "2021-03-14T17:32:04.671080",
     "status": "completed"
    },
    "tags": []
   },
   "source": [
    "# Importing Packages"
   ]
  },
  {
   "cell_type": "code",
   "execution_count": 1,
   "metadata": {
    "_cell_guid": "b1076dfc-b9ad-4769-8c92-a6c4dae69d19",
    "_uuid": "8f2839f25d086af736a60e9eeb907d3b93b6e0e5",
    "execution": {
     "iopub.execute_input": "2021-03-14T17:32:04.753769Z",
     "iopub.status.busy": "2021-03-14T17:32:04.753049Z",
     "iopub.status.idle": "2021-03-14T17:32:05.661329Z",
     "shell.execute_reply": "2021-03-14T17:32:05.659663Z"
    },
    "papermill": {
     "duration": 0.940207,
     "end_time": "2021-03-14T17:32:05.661813",
     "exception": false,
     "start_time": "2021-03-14T17:32:04.721606",
     "status": "completed"
    },
    "tags": []
   },
   "outputs": [
    {
     "name": "stdout",
     "output_type": "stream",
     "text": [
      "/kaggle/input/virat-kohli-odi-dataset/Virat_Kohli_ODI.csv\n",
      "/kaggle/input/virat-kohli-odi-dataset/DataDictionary-Cricket.csv\n"
     ]
    }
   ],
   "source": [
    "# This Python 3 environment comes with many helpful analytics libraries installed\n",
    "# It is defined by the kaggle/python Docker image: https://github.com/kaggle/docker-python\n",
    "# For example, here's several helpful packages to load\n",
    "\n",
    "import numpy as np # linear algebra\n",
    "import pandas as pd # data processing, CSV file I/O (e.g. pd.read_csv)\n",
    "import matplotlib.pyplot as plt\n",
    "import seaborn as sns\n",
    "pd.set_option('display.max_column',None)\n",
    "pd.set_option('display.max_rows',None)\n",
    "pd.set_option('display.max_seq_items',None)\n",
    "pd.set_option('display.max_colwidth', 500)\n",
    "pd.set_option('expand_frame_repr', True)\n",
    "\n",
    "# Input data files are available in the read-only \"../input/\" directory\n",
    "# For example, running this (by clicking run or pressing Shift+Enter) will list all files under the input directory\n",
    "\n",
    "import os\n",
    "for dirname, _, filenames in os.walk('/kaggle/input'):\n",
    "    for filename in filenames:\n",
    "        print(os.path.join(dirname, filename))\n",
    "\n",
    "# You can write up to 20GB to the current directory (/kaggle/working/) that gets preserved as output when you create a version using \"Save & Run All\" \n",
    "# You can also write temporary files to /kaggle/temp/, but they won't be saved outside of the current session"
   ]
  },
  {
   "cell_type": "markdown",
   "metadata": {
    "papermill": {
     "duration": 0.024681,
     "end_time": "2021-03-14T17:32:05.713508",
     "exception": false,
     "start_time": "2021-03-14T17:32:05.688827",
     "status": "completed"
    },
    "tags": []
   },
   "source": [
    "# Loading Data"
   ]
  },
  {
   "cell_type": "code",
   "execution_count": 2,
   "metadata": {
    "execution": {
     "iopub.execute_input": "2021-03-14T17:32:05.772134Z",
     "iopub.status.busy": "2021-03-14T17:32:05.771318Z",
     "iopub.status.idle": "2021-03-14T17:32:05.819900Z",
     "shell.execute_reply": "2021-03-14T17:32:05.820350Z"
    },
    "papermill": {
     "duration": 0.080554,
     "end_time": "2021-03-14T17:32:05.820554",
     "exception": false,
     "start_time": "2021-03-14T17:32:05.740000",
     "status": "completed"
    },
    "tags": []
   },
   "outputs": [
    {
     "data": {
      "text/html": [
       "<div>\n",
       "<style scoped>\n",
       "    .dataframe tbody tr th:only-of-type {\n",
       "        vertical-align: middle;\n",
       "    }\n",
       "\n",
       "    .dataframe tbody tr th {\n",
       "        vertical-align: top;\n",
       "    }\n",
       "\n",
       "    .dataframe thead th {\n",
       "        text-align: right;\n",
       "    }\n",
       "</style>\n",
       "<table border=\"1\" class=\"dataframe\">\n",
       "  <thead>\n",
       "    <tr style=\"text-align: right;\">\n",
       "      <th></th>\n",
       "      <th>Runs</th>\n",
       "      <th>Mins</th>\n",
       "      <th>BF</th>\n",
       "      <th>4s</th>\n",
       "      <th>6s</th>\n",
       "      <th>SR</th>\n",
       "      <th>Pos</th>\n",
       "      <th>Dismissal</th>\n",
       "      <th>Inns</th>\n",
       "      <th>Opposition</th>\n",
       "      <th>Ground</th>\n",
       "      <th>Start Date</th>\n",
       "    </tr>\n",
       "  </thead>\n",
       "  <tbody>\n",
       "    <tr>\n",
       "      <th>0</th>\n",
       "      <td>12</td>\n",
       "      <td>33</td>\n",
       "      <td>22</td>\n",
       "      <td>1</td>\n",
       "      <td>0</td>\n",
       "      <td>54.54</td>\n",
       "      <td>2</td>\n",
       "      <td>lbw</td>\n",
       "      <td>1</td>\n",
       "      <td>v Sri Lanka</td>\n",
       "      <td>Dambulla</td>\n",
       "      <td>18-Aug-08</td>\n",
       "    </tr>\n",
       "    <tr>\n",
       "      <th>1</th>\n",
       "      <td>37</td>\n",
       "      <td>82</td>\n",
       "      <td>67</td>\n",
       "      <td>6</td>\n",
       "      <td>0</td>\n",
       "      <td>55.22</td>\n",
       "      <td>2</td>\n",
       "      <td>caught</td>\n",
       "      <td>2</td>\n",
       "      <td>v Sri Lanka</td>\n",
       "      <td>Dambulla</td>\n",
       "      <td>20-Aug-08</td>\n",
       "    </tr>\n",
       "    <tr>\n",
       "      <th>2</th>\n",
       "      <td>25</td>\n",
       "      <td>40</td>\n",
       "      <td>38</td>\n",
       "      <td>4</td>\n",
       "      <td>0</td>\n",
       "      <td>65.78</td>\n",
       "      <td>1</td>\n",
       "      <td>run out</td>\n",
       "      <td>1</td>\n",
       "      <td>v Sri Lanka</td>\n",
       "      <td>Colombo (RPS)</td>\n",
       "      <td>24-Aug-08</td>\n",
       "    </tr>\n",
       "    <tr>\n",
       "      <th>3</th>\n",
       "      <td>54</td>\n",
       "      <td>87</td>\n",
       "      <td>66</td>\n",
       "      <td>7</td>\n",
       "      <td>0</td>\n",
       "      <td>81.81</td>\n",
       "      <td>1</td>\n",
       "      <td>bowled</td>\n",
       "      <td>1</td>\n",
       "      <td>v Sri Lanka</td>\n",
       "      <td>Colombo (RPS)</td>\n",
       "      <td>27-Aug-08</td>\n",
       "    </tr>\n",
       "    <tr>\n",
       "      <th>4</th>\n",
       "      <td>31</td>\n",
       "      <td>45</td>\n",
       "      <td>46</td>\n",
       "      <td>3</td>\n",
       "      <td>1</td>\n",
       "      <td>67.39</td>\n",
       "      <td>1</td>\n",
       "      <td>lbw</td>\n",
       "      <td>2</td>\n",
       "      <td>v Sri Lanka</td>\n",
       "      <td>Colombo (RPS)</td>\n",
       "      <td>29-Aug-08</td>\n",
       "    </tr>\n",
       "  </tbody>\n",
       "</table>\n",
       "</div>"
      ],
      "text/plain": [
       "  Runs Mins  BF  4s  6s     SR  Pos Dismissal  Inns   Opposition  \\\n",
       "0   12   33  22   1   0  54.54    2       lbw     1  v Sri Lanka   \n",
       "1   37   82  67   6   0  55.22    2    caught     2  v Sri Lanka   \n",
       "2   25   40  38   4   0  65.78    1   run out     1  v Sri Lanka   \n",
       "3   54   87  66   7   0  81.81    1    bowled     1  v Sri Lanka   \n",
       "4   31   45  46   3   1  67.39    1       lbw     2  v Sri Lanka   \n",
       "\n",
       "          Ground Start Date  \n",
       "0       Dambulla  18-Aug-08  \n",
       "1       Dambulla  20-Aug-08  \n",
       "2  Colombo (RPS)  24-Aug-08  \n",
       "3  Colombo (RPS)  27-Aug-08  \n",
       "4  Colombo (RPS)  29-Aug-08  "
      ]
     },
     "execution_count": 2,
     "metadata": {},
     "output_type": "execute_result"
    }
   ],
   "source": [
    "odi_df = pd.read_csv(\"/kaggle/input/virat-kohli-odi-dataset/Virat_Kohli_ODI.csv\")\n",
    "odi_df.head()"
   ]
  },
  {
   "cell_type": "code",
   "execution_count": 3,
   "metadata": {
    "execution": {
     "iopub.execute_input": "2021-03-14T17:32:05.875504Z",
     "iopub.status.busy": "2021-03-14T17:32:05.874828Z",
     "iopub.status.idle": "2021-03-14T17:32:05.891817Z",
     "shell.execute_reply": "2021-03-14T17:32:05.892384Z"
    },
    "papermill": {
     "duration": 0.046393,
     "end_time": "2021-03-14T17:32:05.892566",
     "exception": false,
     "start_time": "2021-03-14T17:32:05.846173",
     "status": "completed"
    },
    "tags": []
   },
   "outputs": [
    {
     "data": {
      "text/html": [
       "<div>\n",
       "<style scoped>\n",
       "    .dataframe tbody tr th:only-of-type {\n",
       "        vertical-align: middle;\n",
       "    }\n",
       "\n",
       "    .dataframe tbody tr th {\n",
       "        vertical-align: top;\n",
       "    }\n",
       "\n",
       "    .dataframe thead th {\n",
       "        text-align: right;\n",
       "    }\n",
       "</style>\n",
       "<table border=\"1\" class=\"dataframe\">\n",
       "  <thead>\n",
       "    <tr style=\"text-align: right;\">\n",
       "      <th></th>\n",
       "      <th>Column Name</th>\n",
       "      <th>Description</th>\n",
       "    </tr>\n",
       "  </thead>\n",
       "  <tbody>\n",
       "    <tr>\n",
       "      <th>0</th>\n",
       "      <td>Runs</td>\n",
       "      <td>The number of runs scored by Virat in that particular match. If he remained not out, then it has been marked by an asterisk (*)</td>\n",
       "    </tr>\n",
       "    <tr>\n",
       "      <th>1</th>\n",
       "      <td>Mins</td>\n",
       "      <td>Total time taken by Virat to score the runs. Essentially the time for which Virat batted in that match.</td>\n",
       "    </tr>\n",
       "    <tr>\n",
       "      <th>2</th>\n",
       "      <td>BF</td>\n",
       "      <td>Total number of balls faced by Virat to score the runs in that match.</td>\n",
       "    </tr>\n",
       "    <tr>\n",
       "      <th>3</th>\n",
       "      <td>4s</td>\n",
       "      <td>Number of fours hit by Virat in that match</td>\n",
       "    </tr>\n",
       "    <tr>\n",
       "      <th>4</th>\n",
       "      <td>6s</td>\n",
       "      <td>Number of sixes hit by Virat in that match</td>\n",
       "    </tr>\n",
       "    <tr>\n",
       "      <th>5</th>\n",
       "      <td>SR</td>\n",
       "      <td>The strike rate of Virat in that match.</td>\n",
       "    </tr>\n",
       "    <tr>\n",
       "      <th>6</th>\n",
       "      <td>Pos</td>\n",
       "      <td>The batting position of Virat in that match.</td>\n",
       "    </tr>\n",
       "    <tr>\n",
       "      <th>7</th>\n",
       "      <td>Dismissal</td>\n",
       "      <td>The mode of dismissal in that match.</td>\n",
       "    </tr>\n",
       "    <tr>\n",
       "      <th>8</th>\n",
       "      <td>Inns</td>\n",
       "      <td>Denotes whether team batted first or batted second</td>\n",
       "    </tr>\n",
       "    <tr>\n",
       "      <th>9</th>\n",
       "      <td>Opposition</td>\n",
       "      <td>The opposition country against which Virat played.</td>\n",
       "    </tr>\n",
       "    <tr>\n",
       "      <th>10</th>\n",
       "      <td>Ground</td>\n",
       "      <td>The ground where the match was played.</td>\n",
       "    </tr>\n",
       "    <tr>\n",
       "      <th>11</th>\n",
       "      <td>Start Date</td>\n",
       "      <td>The date when the match was played.</td>\n",
       "    </tr>\n",
       "  </tbody>\n",
       "</table>\n",
       "</div>"
      ],
      "text/plain": [
       "   Column Name  \\\n",
       "0         Runs   \n",
       "1         Mins   \n",
       "2           BF   \n",
       "3           4s   \n",
       "4           6s   \n",
       "5           SR   \n",
       "6          Pos   \n",
       "7    Dismissal   \n",
       "8         Inns   \n",
       "9   Opposition   \n",
       "10      Ground   \n",
       "11  Start Date   \n",
       "\n",
       "                                                                                                                        Description  \n",
       "0   The number of runs scored by Virat in that particular match. If he remained not out, then it has been marked by an asterisk (*)  \n",
       "1                           Total time taken by Virat to score the runs. Essentially the time for which Virat batted in that match.  \n",
       "2                                                             Total number of balls faced by Virat to score the runs in that match.  \n",
       "3                                                                                        Number of fours hit by Virat in that match  \n",
       "4                                                                                        Number of sixes hit by Virat in that match  \n",
       "5                                                                                           The strike rate of Virat in that match.  \n",
       "6                                                                                      The batting position of Virat in that match.  \n",
       "7                                                                                              The mode of dismissal in that match.  \n",
       "8                                                                                Denotes whether team batted first or batted second  \n",
       "9                                                                                The opposition country against which Virat played.  \n",
       "10                                                                                           The ground where the match was played.  \n",
       "11                                                                                              The date when the match was played.  "
      ]
     },
     "execution_count": 3,
     "metadata": {},
     "output_type": "execute_result"
    }
   ],
   "source": [
    "odi_data_dict = pd.read_csv(\"/kaggle/input/virat-kohli-odi-dataset/DataDictionary-Cricket.csv\")\n",
    "odi_data_dict"
   ]
  },
  {
   "cell_type": "markdown",
   "metadata": {
    "papermill": {
     "duration": 0.027068,
     "end_time": "2021-03-14T17:32:05.946046",
     "exception": false,
     "start_time": "2021-03-14T17:32:05.918978",
     "status": "completed"
    },
    "tags": []
   },
   "source": [
    "# Data Pre-Processing"
   ]
  },
  {
   "cell_type": "code",
   "execution_count": 4,
   "metadata": {
    "execution": {
     "iopub.execute_input": "2021-03-14T17:32:06.003269Z",
     "iopub.status.busy": "2021-03-14T17:32:06.002633Z",
     "iopub.status.idle": "2021-03-14T17:32:06.021362Z",
     "shell.execute_reply": "2021-03-14T17:32:06.022281Z"
    },
    "papermill": {
     "duration": 0.048996,
     "end_time": "2021-03-14T17:32:06.022550",
     "exception": false,
     "start_time": "2021-03-14T17:32:05.973554",
     "status": "completed"
    },
    "tags": []
   },
   "outputs": [
    {
     "name": "stdout",
     "output_type": "stream",
     "text": [
      "<class 'pandas.core.frame.DataFrame'>\n",
      "RangeIndex: 132 entries, 0 to 131\n",
      "Data columns (total 12 columns):\n",
      " #   Column      Non-Null Count  Dtype \n",
      "---  ------      --------------  ----- \n",
      " 0   Runs        132 non-null    object\n",
      " 1   Mins        132 non-null    object\n",
      " 2   BF          132 non-null    int64 \n",
      " 3   4s          132 non-null    int64 \n",
      " 4   6s          132 non-null    int64 \n",
      " 5   SR          132 non-null    object\n",
      " 6   Pos         132 non-null    int64 \n",
      " 7   Dismissal   132 non-null    object\n",
      " 8   Inns        132 non-null    int64 \n",
      " 9   Opposition  132 non-null    object\n",
      " 10  Ground      132 non-null    object\n",
      " 11  Start Date  132 non-null    object\n",
      "dtypes: int64(5), object(7)\n",
      "memory usage: 12.5+ KB\n"
     ]
    }
   ],
   "source": [
    "odi_df.info()"
   ]
  },
  {
   "cell_type": "code",
   "execution_count": 5,
   "metadata": {
    "execution": {
     "iopub.execute_input": "2021-03-14T17:32:06.097711Z",
     "iopub.status.busy": "2021-03-14T17:32:06.096619Z",
     "iopub.status.idle": "2021-03-14T17:32:06.101582Z",
     "shell.execute_reply": "2021-03-14T17:32:06.101016Z"
    },
    "papermill": {
     "duration": 0.050192,
     "end_time": "2021-03-14T17:32:06.101724",
     "exception": false,
     "start_time": "2021-03-14T17:32:06.051532",
     "status": "completed"
    },
    "tags": []
   },
   "outputs": [
    {
     "data": {
      "text/html": [
       "<div>\n",
       "<style scoped>\n",
       "    .dataframe tbody tr th:only-of-type {\n",
       "        vertical-align: middle;\n",
       "    }\n",
       "\n",
       "    .dataframe tbody tr th {\n",
       "        vertical-align: top;\n",
       "    }\n",
       "\n",
       "    .dataframe thead th {\n",
       "        text-align: right;\n",
       "    }\n",
       "</style>\n",
       "<table border=\"1\" class=\"dataframe\">\n",
       "  <thead>\n",
       "    <tr style=\"text-align: right;\">\n",
       "      <th></th>\n",
       "      <th>Runs</th>\n",
       "      <th>Mins</th>\n",
       "      <th>BF</th>\n",
       "      <th>4s</th>\n",
       "      <th>6s</th>\n",
       "      <th>SR</th>\n",
       "      <th>Pos</th>\n",
       "      <th>Dismissal</th>\n",
       "      <th>Inns</th>\n",
       "      <th>Opposition</th>\n",
       "      <th>Ground</th>\n",
       "      <th>Start Date</th>\n",
       "    </tr>\n",
       "  </thead>\n",
       "  <tbody>\n",
       "    <tr>\n",
       "      <th>10</th>\n",
       "      <td>107</td>\n",
       "      <td>-</td>\n",
       "      <td>114</td>\n",
       "      <td>11</td>\n",
       "      <td>1</td>\n",
       "      <td>93.85</td>\n",
       "      <td>4</td>\n",
       "      <td>caught</td>\n",
       "      <td>2</td>\n",
       "      <td>v Sri Lanka</td>\n",
       "      <td>Kolkata</td>\n",
       "      <td>24-Dec-09</td>\n",
       "    </tr>\n",
       "    <tr>\n",
       "      <th>13</th>\n",
       "      <td>31</td>\n",
       "      <td>-</td>\n",
       "      <td>46</td>\n",
       "      <td>1</td>\n",
       "      <td>0</td>\n",
       "      <td>67.39</td>\n",
       "      <td>5</td>\n",
       "      <td>caught</td>\n",
       "      <td>1</td>\n",
       "      <td>v South Africa</td>\n",
       "      <td>Jaipur</td>\n",
       "      <td>21-Feb-10</td>\n",
       "    </tr>\n",
       "    <tr>\n",
       "      <th>14</th>\n",
       "      <td>57</td>\n",
       "      <td>-</td>\n",
       "      <td>71</td>\n",
       "      <td>4</td>\n",
       "      <td>1</td>\n",
       "      <td>80.28</td>\n",
       "      <td>3</td>\n",
       "      <td>caught</td>\n",
       "      <td>2</td>\n",
       "      <td>v South Africa</td>\n",
       "      <td>Ahmedabad</td>\n",
       "      <td>27-Feb-10</td>\n",
       "    </tr>\n",
       "    <tr>\n",
       "      <th>51</th>\n",
       "      <td>86*</td>\n",
       "      <td>-</td>\n",
       "      <td>99</td>\n",
       "      <td>11</td>\n",
       "      <td>0</td>\n",
       "      <td>86.86</td>\n",
       "      <td>4</td>\n",
       "      <td>not out</td>\n",
       "      <td>2</td>\n",
       "      <td>v England</td>\n",
       "      <td>Mumbai</td>\n",
       "      <td>23-Oct-11</td>\n",
       "    </tr>\n",
       "    <tr>\n",
       "      <th>105</th>\n",
       "      <td>49</td>\n",
       "      <td>-</td>\n",
       "      <td>44</td>\n",
       "      <td>2</td>\n",
       "      <td>2</td>\n",
       "      <td>111.36</td>\n",
       "      <td>4</td>\n",
       "      <td>caught</td>\n",
       "      <td>2</td>\n",
       "      <td>v Sri Lanka</td>\n",
       "      <td>Ahmedabad</td>\n",
       "      <td>6-Nov-14</td>\n",
       "    </tr>\n",
       "    <tr>\n",
       "      <th>106</th>\n",
       "      <td>53</td>\n",
       "      <td>-</td>\n",
       "      <td>61</td>\n",
       "      <td>4</td>\n",
       "      <td>1</td>\n",
       "      <td>86.88</td>\n",
       "      <td>4</td>\n",
       "      <td>caught</td>\n",
       "      <td>2</td>\n",
       "      <td>v Sri Lanka</td>\n",
       "      <td>Hyderabad (Deccan)</td>\n",
       "      <td>9-Nov-14</td>\n",
       "    </tr>\n",
       "  </tbody>\n",
       "</table>\n",
       "</div>"
      ],
      "text/plain": [
       "    Runs Mins   BF  4s  6s      SR  Pos Dismissal  Inns      Opposition  \\\n",
       "10   107    -  114  11   1   93.85    4    caught     2     v Sri Lanka   \n",
       "13    31    -   46   1   0   67.39    5    caught     1  v South Africa   \n",
       "14    57    -   71   4   1   80.28    3    caught     2  v South Africa   \n",
       "51   86*    -   99  11   0   86.86    4   not out     2       v England   \n",
       "105   49    -   44   2   2  111.36    4    caught     2     v Sri Lanka   \n",
       "106   53    -   61   4   1   86.88    4    caught     2     v Sri Lanka   \n",
       "\n",
       "                 Ground Start Date  \n",
       "10              Kolkata  24-Dec-09  \n",
       "13               Jaipur  21-Feb-10  \n",
       "14            Ahmedabad  27-Feb-10  \n",
       "51               Mumbai  23-Oct-11  \n",
       "105           Ahmedabad   6-Nov-14  \n",
       "106  Hyderabad (Deccan)   9-Nov-14  "
      ]
     },
     "execution_count": 5,
     "metadata": {},
     "output_type": "execute_result"
    }
   ],
   "source": [
    "# Checking missing values for 'Mins'\n",
    "odi_df[odi_df['Mins']==\"-\"]"
   ]
  },
  {
   "cell_type": "code",
   "execution_count": 6,
   "metadata": {
    "execution": {
     "iopub.execute_input": "2021-03-14T17:32:06.166629Z",
     "iopub.status.busy": "2021-03-14T17:32:06.165912Z",
     "iopub.status.idle": "2021-03-14T17:32:06.169384Z",
     "shell.execute_reply": "2021-03-14T17:32:06.168870Z"
    },
    "papermill": {
     "duration": 0.03998,
     "end_time": "2021-03-14T17:32:06.169528",
     "exception": false,
     "start_time": "2021-03-14T17:32:06.129548",
     "status": "completed"
    },
    "tags": []
   },
   "outputs": [
    {
     "name": "stderr",
     "output_type": "stream",
     "text": [
      "/opt/conda/lib/python3.7/site-packages/ipykernel_launcher.py:3: SettingWithCopyWarning: \n",
      "A value is trying to be set on a copy of a slice from a DataFrame.\n",
      "Try using .loc[row_indexer,col_indexer] = value instead\n",
      "\n",
      "See the caveats in the documentation: https://pandas.pydata.org/pandas-docs/stable/user_guide/indexing.html#returning-a-view-versus-a-copy\n",
      "  This is separate from the ipykernel package so we can avoid doing imports until\n"
     ]
    }
   ],
   "source": [
    "# Calculating average minutes per ball to use it for filling missing values in 'Mins' column\n",
    "temp_df = odi_df[odi_df['Mins']!=\"-\"]\n",
    "temp_df['Mins'] = temp_df['Mins'].astype(int)\n",
    "temp_arr = temp_df.agg({'Mins':'sum', 'BF':'sum'}).values\n",
    "avg_min_per_ball = temp_arr[1]/temp_arr[0]"
   ]
  },
  {
   "cell_type": "code",
   "execution_count": 7,
   "metadata": {
    "execution": {
     "iopub.execute_input": "2021-03-14T17:32:06.232829Z",
     "iopub.status.busy": "2021-03-14T17:32:06.232157Z",
     "iopub.status.idle": "2021-03-14T17:32:06.240678Z",
     "shell.execute_reply": "2021-03-14T17:32:06.239968Z"
    },
    "papermill": {
     "duration": 0.042968,
     "end_time": "2021-03-14T17:32:06.240821",
     "exception": false,
     "start_time": "2021-03-14T17:32:06.197853",
     "status": "completed"
    },
    "tags": []
   },
   "outputs": [],
   "source": [
    "# Impute missing values in 'Mins' columns by 'BF'*avg_min_per_ball\n",
    "odi_df['Mins'] = odi_df[['Mins','BF']].apply(lambda x: int(x[1]*avg_min_per_ball) if x[0]=='-' else int(x[0]), axis=1)"
   ]
  },
  {
   "cell_type": "code",
   "execution_count": 8,
   "metadata": {
    "execution": {
     "iopub.execute_input": "2021-03-14T17:32:06.304216Z",
     "iopub.status.busy": "2021-03-14T17:32:06.303558Z",
     "iopub.status.idle": "2021-03-14T17:32:06.306921Z",
     "shell.execute_reply": "2021-03-14T17:32:06.306355Z"
    },
    "papermill": {
     "duration": 0.0378,
     "end_time": "2021-03-14T17:32:06.307063",
     "exception": false,
     "start_time": "2021-03-14T17:32:06.269263",
     "status": "completed"
    },
    "tags": []
   },
   "outputs": [],
   "source": [
    "# Create a new boolean column 'Not Out'\n",
    "odi_df['Not Out'] = odi_df['Runs'].apply(lambda x: 'Yes' if '*' in x else 'No')"
   ]
  },
  {
   "cell_type": "code",
   "execution_count": 9,
   "metadata": {
    "execution": {
     "iopub.execute_input": "2021-03-14T17:32:06.370311Z",
     "iopub.status.busy": "2021-03-14T17:32:06.369545Z",
     "iopub.status.idle": "2021-03-14T17:32:06.372593Z",
     "shell.execute_reply": "2021-03-14T17:32:06.372027Z"
    },
    "papermill": {
     "duration": 0.037417,
     "end_time": "2021-03-14T17:32:06.372747",
     "exception": false,
     "start_time": "2021-03-14T17:32:06.335330",
     "status": "completed"
    },
    "tags": []
   },
   "outputs": [],
   "source": [
    "# Convert datatype of 'Runs' column to integer\n",
    "odi_df['Runs'] = odi_df['Runs'].apply(lambda x: int(x[:-1]) if '*' in x else int(x))"
   ]
  },
  {
   "cell_type": "code",
   "execution_count": 10,
   "metadata": {
    "execution": {
     "iopub.execute_input": "2021-03-14T17:32:06.452801Z",
     "iopub.status.busy": "2021-03-14T17:32:06.452136Z",
     "iopub.status.idle": "2021-03-14T17:32:06.454490Z",
     "shell.execute_reply": "2021-03-14T17:32:06.454978Z"
    },
    "papermill": {
     "duration": 0.053946,
     "end_time": "2021-03-14T17:32:06.455148",
     "exception": false,
     "start_time": "2021-03-14T17:32:06.401202",
     "status": "completed"
    },
    "tags": []
   },
   "outputs": [],
   "source": [
    "# Convert datatype of 'Start Date' to datetime\n",
    "odi_df['Start Date'] = pd.to_datetime(odi_df['Start Date'])\n",
    "# Create a new column 'Quarter' from 'Start Date'\n",
    "odi_df['Quarter'] = odi_df['Start Date'].dt.quarter\n",
    "# Create a new column 'Year' from 'Start Date'\n",
    "odi_df['Year'] = odi_df['Start Date'].dt.year"
   ]
  },
  {
   "cell_type": "code",
   "execution_count": 11,
   "metadata": {
    "execution": {
     "iopub.execute_input": "2021-03-14T17:32:06.515513Z",
     "iopub.status.busy": "2021-03-14T17:32:06.514838Z",
     "iopub.status.idle": "2021-03-14T17:32:06.531549Z",
     "shell.execute_reply": "2021-03-14T17:32:06.530899Z"
    },
    "papermill": {
     "duration": 0.047841,
     "end_time": "2021-03-14T17:32:06.531734",
     "exception": false,
     "start_time": "2021-03-14T17:32:06.483893",
     "status": "completed"
    },
    "tags": []
   },
   "outputs": [
    {
     "data": {
      "text/html": [
       "<div>\n",
       "<style scoped>\n",
       "    .dataframe tbody tr th:only-of-type {\n",
       "        vertical-align: middle;\n",
       "    }\n",
       "\n",
       "    .dataframe tbody tr th {\n",
       "        vertical-align: top;\n",
       "    }\n",
       "\n",
       "    .dataframe thead th {\n",
       "        text-align: right;\n",
       "    }\n",
       "</style>\n",
       "<table border=\"1\" class=\"dataframe\">\n",
       "  <thead>\n",
       "    <tr style=\"text-align: right;\">\n",
       "      <th></th>\n",
       "      <th>Runs</th>\n",
       "      <th>Mins</th>\n",
       "      <th>BF</th>\n",
       "      <th>4s</th>\n",
       "      <th>6s</th>\n",
       "      <th>SR</th>\n",
       "      <th>Pos</th>\n",
       "      <th>Dismissal</th>\n",
       "      <th>Inns</th>\n",
       "      <th>Opposition</th>\n",
       "      <th>Ground</th>\n",
       "      <th>Start Date</th>\n",
       "      <th>Not Out</th>\n",
       "      <th>Quarter</th>\n",
       "      <th>Year</th>\n",
       "    </tr>\n",
       "  </thead>\n",
       "  <tbody>\n",
       "    <tr>\n",
       "      <th>15</th>\n",
       "      <td>0</td>\n",
       "      <td>3</td>\n",
       "      <td>0</td>\n",
       "      <td>0</td>\n",
       "      <td>0</td>\n",
       "      <td>-</td>\n",
       "      <td>3</td>\n",
       "      <td>run out</td>\n",
       "      <td>1</td>\n",
       "      <td>v Zimbabwe</td>\n",
       "      <td>Bulawayo</td>\n",
       "      <td>2010-05-28</td>\n",
       "      <td>No</td>\n",
       "      <td>2</td>\n",
       "      <td>2010</td>\n",
       "    </tr>\n",
       "  </tbody>\n",
       "</table>\n",
       "</div>"
      ],
      "text/plain": [
       "    Runs  Mins  BF  4s  6s SR  Pos Dismissal  Inns  Opposition    Ground  \\\n",
       "15     0     3   0   0   0  -    3   run out     1  v Zimbabwe  Bulawayo   \n",
       "\n",
       "   Start Date Not Out  Quarter  Year  \n",
       "15 2010-05-28      No        2  2010  "
      ]
     },
     "execution_count": 11,
     "metadata": {},
     "output_type": "execute_result"
    }
   ],
   "source": [
    "# Checking for missing values in Strike Rate\n",
    "odi_df[odi_df['SR']==\"-\"]"
   ]
  },
  {
   "cell_type": "code",
   "execution_count": 12,
   "metadata": {
    "execution": {
     "iopub.execute_input": "2021-03-14T17:32:06.605522Z",
     "iopub.status.busy": "2021-03-14T17:32:06.604813Z",
     "iopub.status.idle": "2021-03-14T17:32:06.608143Z",
     "shell.execute_reply": "2021-03-14T17:32:06.607519Z"
    },
    "papermill": {
     "duration": 0.046544,
     "end_time": "2021-03-14T17:32:06.608282",
     "exception": false,
     "start_time": "2021-03-14T17:32:06.561738",
     "status": "completed"
    },
    "tags": []
   },
   "outputs": [],
   "source": [
    "# Imputing Strike Rate with 0 since for that match Virat got out at 0 and converting it to float type\n",
    "odi_df[odi_df['SR']==\"-\"] = 0\n",
    "odi_df['SR'] = odi_df['SR'].astype(float) "
   ]
  },
  {
   "cell_type": "code",
   "execution_count": 13,
   "metadata": {
    "execution": {
     "iopub.execute_input": "2021-03-14T17:32:06.671835Z",
     "iopub.status.busy": "2021-03-14T17:32:06.671146Z",
     "iopub.status.idle": "2021-03-14T17:32:06.700845Z",
     "shell.execute_reply": "2021-03-14T17:32:06.700155Z"
    },
    "papermill": {
     "duration": 0.063235,
     "end_time": "2021-03-14T17:32:06.700991",
     "exception": false,
     "start_time": "2021-03-14T17:32:06.637756",
     "status": "completed"
    },
    "tags": []
   },
   "outputs": [
    {
     "data": {
      "text/html": [
       "<div>\n",
       "<style scoped>\n",
       "    .dataframe tbody tr th:only-of-type {\n",
       "        vertical-align: middle;\n",
       "    }\n",
       "\n",
       "    .dataframe tbody tr th {\n",
       "        vertical-align: top;\n",
       "    }\n",
       "\n",
       "    .dataframe thead th {\n",
       "        text-align: right;\n",
       "    }\n",
       "</style>\n",
       "<table border=\"1\" class=\"dataframe\">\n",
       "  <thead>\n",
       "    <tr style=\"text-align: right;\">\n",
       "      <th></th>\n",
       "      <th>Runs</th>\n",
       "      <th>Mins</th>\n",
       "      <th>BF</th>\n",
       "      <th>4s</th>\n",
       "      <th>6s</th>\n",
       "      <th>SR</th>\n",
       "      <th>Pos</th>\n",
       "      <th>Dismissal</th>\n",
       "      <th>Inns</th>\n",
       "      <th>Opposition</th>\n",
       "      <th>Ground</th>\n",
       "      <th>Start Date</th>\n",
       "      <th>Not Out</th>\n",
       "      <th>Quarter</th>\n",
       "      <th>Year</th>\n",
       "    </tr>\n",
       "  </thead>\n",
       "  <tbody>\n",
       "    <tr>\n",
       "      <th>15</th>\n",
       "      <td>0</td>\n",
       "      <td>0</td>\n",
       "      <td>0</td>\n",
       "      <td>0</td>\n",
       "      <td>0</td>\n",
       "      <td>0.0</td>\n",
       "      <td>0</td>\n",
       "      <td>0</td>\n",
       "      <td>0</td>\n",
       "      <td>0</td>\n",
       "      <td>0</td>\n",
       "      <td>0</td>\n",
       "      <td>0</td>\n",
       "      <td>0</td>\n",
       "      <td>0</td>\n",
       "    </tr>\n",
       "  </tbody>\n",
       "</table>\n",
       "</div>"
      ],
      "text/plain": [
       "    Runs  Mins  BF  4s  6s   SR  Pos Dismissal  Inns Opposition Ground  \\\n",
       "15     0     0   0   0   0  0.0    0         0     0          0      0   \n",
       "\n",
       "   Start Date Not Out  Quarter  Year  \n",
       "15          0       0        0     0  "
      ]
     },
     "execution_count": 13,
     "metadata": {},
     "output_type": "execute_result"
    }
   ],
   "source": [
    "# Removing row with all Null values\n",
    "odi_df[odi_df['Year']==0]"
   ]
  },
  {
   "cell_type": "code",
   "execution_count": 14,
   "metadata": {
    "execution": {
     "iopub.execute_input": "2021-03-14T17:32:06.768485Z",
     "iopub.status.busy": "2021-03-14T17:32:06.767574Z",
     "iopub.status.idle": "2021-03-14T17:32:06.770630Z",
     "shell.execute_reply": "2021-03-14T17:32:06.770082Z"
    },
    "papermill": {
     "duration": 0.039278,
     "end_time": "2021-03-14T17:32:06.770783",
     "exception": false,
     "start_time": "2021-03-14T17:32:06.731505",
     "status": "completed"
    },
    "tags": []
   },
   "outputs": [],
   "source": [
    "odi_df = odi_df[odi_df['Year']!=0]"
   ]
  },
  {
   "cell_type": "markdown",
   "metadata": {
    "papermill": {
     "duration": 0.030983,
     "end_time": "2021-03-14T17:32:06.833154",
     "exception": false,
     "start_time": "2021-03-14T17:32:06.802171",
     "status": "completed"
    },
    "tags": []
   },
   "source": [
    "# Assignment Questions"
   ]
  },
  {
   "cell_type": "markdown",
   "metadata": {
    "papermill": {
     "duration": 0.029885,
     "end_time": "2021-03-14T17:32:06.893450",
     "exception": false,
     "start_time": "2021-03-14T17:32:06.863565",
     "status": "completed"
    },
    "tags": []
   },
   "source": [
    "## 1. Using the data set, find out the country against which Virat Kohli has the maximum batting average. Here, the batting average is given by (total number of runs Virat scored)/(the total number of matches he played) and not the average runs Virat Kohli scored before getting out."
   ]
  },
  {
   "cell_type": "code",
   "execution_count": 15,
   "metadata": {
    "execution": {
     "iopub.execute_input": "2021-03-14T17:32:06.966874Z",
     "iopub.status.busy": "2021-03-14T17:32:06.965824Z",
     "iopub.status.idle": "2021-03-14T17:32:06.970340Z",
     "shell.execute_reply": "2021-03-14T17:32:06.969802Z"
    },
    "papermill": {
     "duration": 0.046989,
     "end_time": "2021-03-14T17:32:06.970499",
     "exception": false,
     "start_time": "2021-03-14T17:32:06.923510",
     "status": "completed"
    },
    "tags": []
   },
   "outputs": [
    {
     "data": {
      "text/html": [
       "<div>\n",
       "<style scoped>\n",
       "    .dataframe tbody tr th:only-of-type {\n",
       "        vertical-align: middle;\n",
       "    }\n",
       "\n",
       "    .dataframe tbody tr th {\n",
       "        vertical-align: top;\n",
       "    }\n",
       "\n",
       "    .dataframe thead th {\n",
       "        text-align: right;\n",
       "    }\n",
       "</style>\n",
       "<table border=\"1\" class=\"dataframe\">\n",
       "  <thead>\n",
       "    <tr style=\"text-align: right;\">\n",
       "      <th></th>\n",
       "      <th>Runs</th>\n",
       "      <th>Opposition</th>\n",
       "    </tr>\n",
       "    <tr>\n",
       "      <th>Opposition</th>\n",
       "      <th></th>\n",
       "      <th></th>\n",
       "    </tr>\n",
       "  </thead>\n",
       "  <tbody>\n",
       "    <tr>\n",
       "      <th>v Australia</th>\n",
       "      <td>999</td>\n",
       "      <td>20</td>\n",
       "    </tr>\n",
       "    <tr>\n",
       "      <th>v Bangladesh</th>\n",
       "      <td>544</td>\n",
       "      <td>8</td>\n",
       "    </tr>\n",
       "    <tr>\n",
       "      <th>v England</th>\n",
       "      <td>830</td>\n",
       "      <td>21</td>\n",
       "    </tr>\n",
       "    <tr>\n",
       "      <th>v Ireland</th>\n",
       "      <td>34</td>\n",
       "      <td>1</td>\n",
       "    </tr>\n",
       "    <tr>\n",
       "      <th>v Netherlands</th>\n",
       "      <td>12</td>\n",
       "      <td>1</td>\n",
       "    </tr>\n",
       "  </tbody>\n",
       "</table>\n",
       "</div>"
      ],
      "text/plain": [
       "               Runs  Opposition\n",
       "Opposition                     \n",
       "v Australia     999          20\n",
       "v Bangladesh    544           8\n",
       "v England       830          21\n",
       "v Ireland        34           1\n",
       "v Netherlands    12           1"
      ]
     },
     "execution_count": 15,
     "metadata": {},
     "output_type": "execute_result"
    }
   ],
   "source": [
    "odi_df.groupby('Opposition').agg({'Runs' : 'sum', 'Opposition':'count'}).head()"
   ]
  },
  {
   "cell_type": "code",
   "execution_count": 16,
   "metadata": {
    "execution": {
     "iopub.execute_input": "2021-03-14T17:32:07.091118Z",
     "iopub.status.busy": "2021-03-14T17:32:07.058655Z",
     "iopub.status.idle": "2021-03-14T17:32:07.095542Z",
     "shell.execute_reply": "2021-03-14T17:32:07.096018Z"
    },
    "papermill": {
     "duration": 0.094907,
     "end_time": "2021-03-14T17:32:07.096208",
     "exception": false,
     "start_time": "2021-03-14T17:32:07.001301",
     "status": "completed"
    },
    "tags": []
   },
   "outputs": [
    {
     "data": {
      "text/plain": [
       "{'v Sri Lanka': [1084, 24],\n",
       " 'v Australia': [999, 20],\n",
       " 'v Bangladesh': [544, 8],\n",
       " 'v South Africa': [558, 15],\n",
       " 'v Zimbabwe': [215, 4],\n",
       " 'v New Zealand': [877, 14],\n",
       " 'v Ireland': [34, 1],\n",
       " 'v Netherlands': [12, 1],\n",
       " 'v West Indies': [1009, 19],\n",
       " 'v Pakistan': [22, 4],\n",
       " 'v England': [830, 21]}"
      ]
     },
     "execution_count": 16,
     "metadata": {},
     "output_type": "execute_result"
    }
   ],
   "source": [
    "dict1 = {}\n",
    "for i in odi_df.index:   \n",
    "    runs = odi_df.loc[i].Runs\n",
    "    country = odi_df.loc[i].Opposition\n",
    "    if country not in dict1:\n",
    "        dict1[country] = [runs, 1]\n",
    "    else:\n",
    "        dict1[country] = [dict1[country][0]+runs, dict1[country][1]+1]    \n",
    "dict1"
   ]
  },
  {
   "cell_type": "code",
   "execution_count": 17,
   "metadata": {
    "execution": {
     "iopub.execute_input": "2021-03-14T17:32:07.165190Z",
     "iopub.status.busy": "2021-03-14T17:32:07.164525Z",
     "iopub.status.idle": "2021-03-14T17:32:07.168221Z",
     "shell.execute_reply": "2021-03-14T17:32:07.167659Z"
    },
    "papermill": {
     "duration": 0.040807,
     "end_time": "2021-03-14T17:32:07.168387",
     "exception": false,
     "start_time": "2021-03-14T17:32:07.127580",
     "status": "completed"
    },
    "tags": []
   },
   "outputs": [
    {
     "data": {
      "text/plain": [
       "(68.0, 'v Bangladesh')"
      ]
     },
     "execution_count": 17,
     "metadata": {},
     "output_type": "execute_result"
    }
   ],
   "source": [
    "max = 0\n",
    "team = ''\n",
    "for k,v in dict1.items():\n",
    "    avg = v[0]/v[1]\n",
    "    if avg> max:\n",
    "        max = avg\n",
    "        team = k\n",
    "max,team"
   ]
  },
  {
   "cell_type": "markdown",
   "metadata": {
    "papermill": {
     "duration": 0.031808,
     "end_time": "2021-03-14T17:32:07.300802",
     "exception": false,
     "start_time": "2021-03-14T17:32:07.268994",
     "status": "completed"
    },
    "tags": []
   },
   "source": [
    "## 2. Plot a histogram to see where Virat Kohli has scored the most number of times."
   ]
  },
  {
   "cell_type": "markdown",
   "metadata": {
    "papermill": {
     "duration": 0.032903,
     "end_time": "2021-03-14T17:32:07.236857",
     "exception": false,
     "start_time": "2021-03-14T17:32:07.203954",
     "status": "completed"
    },
    "tags": []
   },
   "source": [
    "**Virat Kohli has the maximum batting average against *Bangladesh***"
   ]
  },
  {
   "cell_type": "code",
   "execution_count": 18,
   "metadata": {
    "execution": {
     "iopub.execute_input": "2021-03-14T17:32:07.386694Z",
     "iopub.status.busy": "2021-03-14T17:32:07.384186Z",
     "iopub.status.idle": "2021-03-14T17:32:07.609023Z",
     "shell.execute_reply": "2021-03-14T17:32:07.608480Z"
    },
    "papermill": {
     "duration": 0.276087,
     "end_time": "2021-03-14T17:32:07.609169",
     "exception": false,
     "start_time": "2021-03-14T17:32:07.333082",
     "status": "completed"
    },
    "tags": []
   },
   "outputs": [
    {
     "data": {
      "image/png": "[encoded data removed]",
      "text/plain": [
       "<Figure size 1440x720 with 1 Axes>"
      ]
     },
     "metadata": {
      "needs_background": "light"
     },
     "output_type": "display_data"
    }
   ],
   "source": [
    "runs= odi_df['Runs']\n",
    "plt.figure(figsize = (20,10))\n",
    "plt.hist(runs, bins = 16)\n",
    "plt.show()"
   ]
  },
  {
   "cell_type": "markdown",
   "metadata": {
    "papermill": {
     "duration": 0.032235,
     "end_time": "2021-03-14T17:32:07.673559",
     "exception": false,
     "start_time": "2021-03-14T17:32:07.641324",
     "status": "completed"
    },
    "tags": []
   },
   "source": [
    "## 3. Whenever Virat Kohli has scored 90-100 runs (exclude 100), what has been the average strike rate?"
   ]
  },
  {
   "cell_type": "code",
   "execution_count": 19,
   "metadata": {
    "execution": {
     "iopub.execute_input": "2021-03-14T17:32:07.771488Z",
     "iopub.status.busy": "2021-03-14T17:32:07.768797Z",
     "iopub.status.idle": "2021-03-14T17:32:07.776805Z",
     "shell.execute_reply": "2021-03-14T17:32:07.776101Z"
    },
    "papermill": {
     "duration": 0.071226,
     "end_time": "2021-03-14T17:32:07.776961",
     "exception": false,
     "start_time": "2021-03-14T17:32:07.705735",
     "status": "completed"
    },
    "tags": []
   },
   "outputs": [
    {
     "data": {
      "text/plain": [
       "93.1"
      ]
     },
     "execution_count": 19,
     "metadata": {},
     "output_type": "execute_result"
    }
   ],
   "source": [
    "avg_list = []\n",
    "for i in odi_df.index:\n",
    "    row = odi_df.loc[i]\n",
    "    runs = row['Runs']\n",
    "    if runs >= 90 and runs <100:\n",
    "        avg_list.append(float(row['SR']))       \n",
    "avg_sr = sum(avg_list)/ len(avg_list)\n",
    "avg_sr"
   ]
  },
  {
   "cell_type": "markdown",
   "metadata": {
    "papermill": {
     "duration": 0.034032,
     "end_time": "2021-03-14T17:32:07.844489",
     "exception": false,
     "start_time": "2021-03-14T17:32:07.810457",
     "status": "completed"
    },
    "tags": []
   },
   "source": [
    "## 4. Using the previous histogram, find the run interval where Virat has scored the maximum number of sixes. Also, mention the number of fours he hit in the same bracket."
   ]
  },
  {
   "cell_type": "code",
   "execution_count": 20,
   "metadata": {
    "execution": {
     "iopub.execute_input": "2021-03-14T17:32:07.917084Z",
     "iopub.status.busy": "2021-03-14T17:32:07.916333Z",
     "iopub.status.idle": "2021-03-14T17:32:07.929914Z",
     "shell.execute_reply": "2021-03-14T17:32:07.929250Z"
    },
    "papermill": {
     "duration": 0.05279,
     "end_time": "2021-03-14T17:32:07.930054",
     "exception": false,
     "start_time": "2021-03-14T17:32:07.877264",
     "status": "completed"
    },
    "tags": []
   },
   "outputs": [
    {
     "data": {
      "text/plain": [
       "(14.0, 90.0, 10.0)"
      ]
     },
     "execution_count": 20,
     "metadata": {},
     "output_type": "execute_result"
    }
   ],
   "source": [
    "runs= odi_df['Runs']\n",
    "group_bin = [i//10 for i in runs]\n",
    "odi_df['Group_Size'] = group_bin\n",
    "df1 = odi_df.groupby('Group_Size').sum().reset_index()\n",
    "df1.head()\n",
    "max_six = 0\n",
    "for i in df1.index:\n",
    "    row = (df1.iloc[i])\n",
    "    six_run = row['6s']\n",
    "    if max_six<six_run:\n",
    "        max_six = six_run\n",
    "        max_four = row['4s']\n",
    "        group_int = row['Group_Size']\n",
    "max_six, max_four, group_int"
   ]
  },
  {
   "cell_type": "markdown",
   "metadata": {
    "papermill": {
     "duration": 0.033047,
     "end_time": "2021-03-14T17:32:07.996313",
     "exception": false,
     "start_time": "2021-03-14T17:32:07.963266",
     "status": "completed"
    },
    "tags": []
   },
   "source": [
    "**In Group *10* i.e; 100,110 runs Kohli hit *14* Sixes and *90* Fours**"
   ]
  },
  {
   "cell_type": "markdown",
   "metadata": {
    "papermill": {
     "duration": 0.033526,
     "end_time": "2021-03-14T17:32:08.062997",
     "exception": false,
     "start_time": "2021-03-14T17:32:08.029471",
     "status": "completed"
    },
    "tags": []
   },
   "source": [
    "## 5. Plot a pie chart to find out the approximate percentage of the times Virat Kohli has been out by LBW in all his innings. Take into account all his innings, including the ones in which he remained not out."
   ]
  },
  {
   "cell_type": "code",
   "execution_count": 21,
   "metadata": {
    "execution": {
     "iopub.execute_input": "2021-03-14T17:32:08.140264Z",
     "iopub.status.busy": "2021-03-14T17:32:08.139619Z",
     "iopub.status.idle": "2021-03-14T17:32:08.144104Z",
     "shell.execute_reply": "2021-03-14T17:32:08.143575Z"
    },
    "papermill": {
     "duration": 0.047272,
     "end_time": "2021-03-14T17:32:08.144242",
     "exception": false,
     "start_time": "2021-03-14T17:32:08.096970",
     "status": "completed"
    },
    "tags": []
   },
   "outputs": [
    {
     "data": {
      "text/plain": [
       "(9, 131)"
      ]
     },
     "execution_count": 21,
     "metadata": {},
     "output_type": "execute_result"
    }
   ],
   "source": [
    "df2= odi_df[['Dismissal','Runs']].groupby('Dismissal').count()\n",
    "lbw_count = df2.loc['lbw'].values[0]\n",
    "total = df2.Runs.sum()\n",
    "lbw_count, total"
   ]
  },
  {
   "cell_type": "code",
   "execution_count": 22,
   "metadata": {
    "execution": {
     "iopub.execute_input": "2021-03-14T17:32:08.320608Z",
     "iopub.status.busy": "2021-03-14T17:32:08.318201Z",
     "iopub.status.idle": "2021-03-14T17:32:08.419818Z",
     "shell.execute_reply": "2021-03-14T17:32:08.419013Z"
    },
    "papermill": {
     "duration": 0.241984,
     "end_time": "2021-03-14T17:32:08.420027",
     "exception": false,
     "start_time": "2021-03-14T17:32:08.178043",
     "status": "completed"
    },
    "tags": []
   },
   "outputs": [
    {
     "data": {
      "image/png": "[encoded data removed]",
      "text/plain": [
       "<Figure size 720x720 with 1 Axes>"
      ]
     },
     "metadata": {},
     "output_type": "display_data"
    }
   ],
   "source": [
    "plt.figure(figsize = (10,10))\n",
    "plt.pie(x = [lbw_count,total],labels= ['LBW','Total Innings'] ,autopct='%.2f')\n",
    "plt.show()"
   ]
  },
  {
   "cell_type": "markdown",
   "metadata": {
    "papermill": {
     "duration": 0.034635,
     "end_time": "2021-03-14T17:32:08.490057",
     "exception": false,
     "start_time": "2021-03-14T17:32:08.455422",
     "status": "completed"
    },
    "tags": []
   },
   "source": [
    "## 6. Let’s say you want to visualize the consistency of the runs scored by Virat against various teams, i.e. you want to compare the spread of the runs scored by Virat against various teams. Which of the following plots will be the most appropriate for visualizing this?"
   ]
  },
  {
   "cell_type": "code",
   "execution_count": 23,
   "metadata": {
    "execution": {
     "iopub.execute_input": "2021-03-14T17:32:08.590196Z",
     "iopub.status.busy": "2021-03-14T17:32:08.589127Z",
     "iopub.status.idle": "2021-03-14T17:32:08.919401Z",
     "shell.execute_reply": "2021-03-14T17:32:08.918858Z"
    },
    "papermill": {
     "duration": 0.394073,
     "end_time": "2021-03-14T17:32:08.919549",
     "exception": false,
     "start_time": "2021-03-14T17:32:08.525476",
     "status": "completed"
    },
    "tags": []
   },
   "outputs": [
    {
     "data": {
      "image/png": "[encoded data removed]",
      "text/plain": [
       "<Figure size 720x720 with 1 Axes>"
      ]
     },
     "metadata": {
      "needs_background": "light"
     },
     "output_type": "display_data"
    }
   ],
   "source": [
    "plt.figure(figsize = (10,10))\n",
    "sns.boxplot(x= 'Opposition', y = 'Runs', data = odi_df)\n",
    "plt.xticks(rotation = 90)\n",
    "plt.show()"
   ]
  },
  {
   "cell_type": "markdown",
   "metadata": {
    "papermill": {
     "duration": 0.035747,
     "end_time": "2021-03-14T17:32:08.991283",
     "exception": false,
     "start_time": "2021-03-14T17:32:08.955536",
     "status": "completed"
    },
    "tags": []
   },
   "source": [
    "## 7. In which years have Kohli’s runs kept improving in the Q2-Q4 period given that he played at least one match in that period?"
   ]
  },
  {
   "cell_type": "markdown",
   "metadata": {
    "papermill": {
     "duration": 0.036953,
     "end_time": "2021-03-14T17:32:09.064181",
     "exception": false,
     "start_time": "2021-03-14T17:32:09.027228",
     "status": "completed"
    },
    "tags": []
   },
   "source": [
    "### *Assumption*- Considering Q2, Q3 & Q4 continuous improvement"
   ]
  },
  {
   "cell_type": "code",
   "execution_count": 24,
   "metadata": {
    "execution": {
     "iopub.execute_input": "2021-03-14T17:32:09.150146Z",
     "iopub.status.busy": "2021-03-14T17:32:09.149225Z",
     "iopub.status.idle": "2021-03-14T17:32:09.154695Z",
     "shell.execute_reply": "2021-03-14T17:32:09.154131Z"
    },
    "papermill": {
     "duration": 0.054664,
     "end_time": "2021-03-14T17:32:09.154835",
     "exception": false,
     "start_time": "2021-03-14T17:32:09.100171",
     "status": "completed"
    },
    "tags": []
   },
   "outputs": [],
   "source": [
    "temp_df = odi_df[odi_df['Quarter'].isin([1,2,3,4])].groupby(['Year','Quarter']).agg({'Runs':'sum', 'Inns':'sum'}).apply(lambda x: x[0]/x[1], axis=1).reindex()"
   ]
  },
  {
   "cell_type": "code",
   "execution_count": 25,
   "metadata": {
    "execution": {
     "iopub.execute_input": "2021-03-14T17:32:09.243032Z",
     "iopub.status.busy": "2021-03-14T17:32:09.242349Z",
     "iopub.status.idle": "2021-03-14T17:32:09.608688Z",
     "shell.execute_reply": "2021-03-14T17:32:09.609183Z"
    },
    "papermill": {
     "duration": 0.418385,
     "end_time": "2021-03-14T17:32:09.609364",
     "exception": false,
     "start_time": "2021-03-14T17:32:09.190979",
     "status": "completed"
    },
    "tags": []
   },
   "outputs": [
    {
     "data": {
      "image/png": "[encoded data removed]",
      "text/plain": [
       "<Figure size 1440x720 with 1 Axes>"
      ]
     },
     "metadata": {
      "needs_background": "light"
     },
     "output_type": "display_data"
    }
   ],
   "source": [
    "temp_df.plot(kind='bar', figsize = (20,10))\n",
    "plt.show()"
   ]
  },
  {
   "cell_type": "code",
   "execution_count": 26,
   "metadata": {
    "execution": {
     "iopub.execute_input": "2021-03-14T17:32:09.692597Z",
     "iopub.status.busy": "2021-03-14T17:32:09.691907Z",
     "iopub.status.idle": "2021-03-14T17:32:10.029772Z",
     "shell.execute_reply": "2021-03-14T17:32:10.030308Z"
    },
    "papermill": {
     "duration": 0.383472,
     "end_time": "2021-03-14T17:32:10.030504",
     "exception": false,
     "start_time": "2021-03-14T17:32:09.647032",
     "status": "completed"
    },
    "tags": []
   },
   "outputs": [
    {
     "data": {
      "image/png": "[encoded data removed]",
      "text/plain": [
       "<Figure size 1440x720 with 1 Axes>"
      ]
     },
     "metadata": {
      "needs_background": "light"
     },
     "output_type": "display_data"
    }
   ],
   "source": [
    "df3 = odi_df[['Start Date','Inns','Runs']]\n",
    "df3.index = df3['Start Date']\n",
    "df4  = df3.resample('Q', convention='end').agg('sum')\n",
    "plt.figure(figsize = (20,10))\n",
    "df4['Inns'].plot( kind = 'line')\n",
    "df4['Runs'].plot( kind = 'line')\n",
    "plt.show()"
   ]
  },
  {
   "cell_type": "markdown",
   "metadata": {
    "papermill": {
     "duration": 0.039233,
     "end_time": "2021-03-14T17:32:10.109349",
     "exception": false,
     "start_time": "2021-03-14T17:32:10.070116",
     "status": "completed"
    },
    "tags": []
   },
   "source": [
    "**For year *2014* and *2015* we can observe there is continuous improvement towards Q4**"
   ]
  },
  {
   "cell_type": "markdown",
   "metadata": {
    "papermill": {
     "duration": 0.039221,
     "end_time": "2021-03-14T17:32:10.187936",
     "exception": false,
     "start_time": "2021-03-14T17:32:10.148715",
     "status": "completed"
    },
    "tags": []
   },
   "source": [
    "## 8. Against which country has Virat scored the maximum aggregate runs in matches where the mode of dismissal was “caught”?"
   ]
  },
  {
   "cell_type": "code",
   "execution_count": 27,
   "metadata": {
    "execution": {
     "iopub.execute_input": "2021-03-14T17:32:10.270314Z",
     "iopub.status.busy": "2021-03-14T17:32:10.269691Z",
     "iopub.status.idle": "2021-03-14T17:32:10.281854Z",
     "shell.execute_reply": "2021-03-14T17:32:10.282399Z"
    },
    "papermill": {
     "duration": 0.055166,
     "end_time": "2021-03-14T17:32:10.282570",
     "exception": false,
     "start_time": "2021-03-14T17:32:10.227404",
     "status": "completed"
    },
    "tags": []
   },
   "outputs": [
    {
     "data": {
      "text/plain": [
       "'v West Indies'"
      ]
     },
     "execution_count": 27,
     "metadata": {},
     "output_type": "execute_result"
    }
   ],
   "source": [
    "odi_df[odi_df['Dismissal']=='caught'].groupby('Opposition').agg({'Runs':'sum', 'Inns':'sum'}).apply(lambda x: x[0]/x[1], axis=1).idxmax()"
   ]
  },
  {
   "cell_type": "markdown",
   "metadata": {
    "papermill": {
     "duration": 0.040046,
     "end_time": "2021-03-14T17:32:10.362572",
     "exception": false,
     "start_time": "2021-03-14T17:32:10.322526",
     "status": "completed"
    },
    "tags": []
   },
   "source": [
    "**Virat scored the maximum aggregate runs in matches against West Indies where the mode of dismissal was “caught”**"
   ]
  },
  {
   "cell_type": "markdown",
   "metadata": {
    "papermill": {
     "duration": 0.039826,
     "end_time": "2021-03-14T17:32:10.442594",
     "exception": false,
     "start_time": "2021-03-14T17:32:10.402768",
     "status": "completed"
    },
    "tags": []
   },
   "source": [
    "## 9. What is the batting position at which Virat has the best average against England?"
   ]
  },
  {
   "cell_type": "code",
   "execution_count": 28,
   "metadata": {
    "execution": {
     "iopub.execute_input": "2021-03-14T17:32:10.526285Z",
     "iopub.status.busy": "2021-03-14T17:32:10.525625Z",
     "iopub.status.idle": "2021-03-14T17:32:10.538738Z",
     "shell.execute_reply": "2021-03-14T17:32:10.539262Z"
    },
    "papermill": {
     "duration": 0.056676,
     "end_time": "2021-03-14T17:32:10.539474",
     "exception": false,
     "start_time": "2021-03-14T17:32:10.482798",
     "status": "completed"
    },
    "tags": []
   },
   "outputs": [
    {
     "data": {
      "text/plain": [
       "Pos\n",
       "3    19.863636\n",
       "4    39.300000\n",
       "dtype: float64"
      ]
     },
     "execution_count": 28,
     "metadata": {},
     "output_type": "execute_result"
    }
   ],
   "source": [
    "# Calculating average \n",
    "odi_df[odi_df['Opposition']=='v England'].groupby('Pos').agg({'Runs':'sum', 'Inns':'sum'}).apply(lambda x: x[0]/x[1], axis=1)"
   ]
  },
  {
   "cell_type": "code",
   "execution_count": 29,
   "metadata": {
    "execution": {
     "iopub.execute_input": "2021-03-14T17:32:10.625596Z",
     "iopub.status.busy": "2021-03-14T17:32:10.624899Z",
     "iopub.status.idle": "2021-03-14T17:32:10.637330Z",
     "shell.execute_reply": "2021-03-14T17:32:10.636807Z"
    },
    "papermill": {
     "duration": 0.057055,
     "end_time": "2021-03-14T17:32:10.637511",
     "exception": false,
     "start_time": "2021-03-14T17:32:10.580456",
     "status": "completed"
    },
    "tags": []
   },
   "outputs": [
    {
     "data": {
      "text/plain": [
       "4"
      ]
     },
     "execution_count": 29,
     "metadata": {},
     "output_type": "execute_result"
    }
   ],
   "source": [
    "# Finding batting position\n",
    "odi_df[odi_df['Opposition']=='v England'].groupby('Pos').agg({'Runs':'sum', 'Inns':'sum'}).apply(lambda x: x[0]/x[1], axis=1).idxmax()"
   ]
  },
  {
   "cell_type": "markdown",
   "metadata": {
    "papermill": {
     "duration": 0.041602,
     "end_time": "2021-03-14T17:32:10.720714",
     "exception": false,
     "start_time": "2021-03-14T17:32:10.679112",
     "status": "completed"
    },
    "tags": []
   },
   "source": [
    "**Virat has best average against England at 4th Batting position**"
   ]
  }
 ],
 "metadata": {
  "kernelspec": {
   "display_name": "Python 3",
   "language": "python",
   "name": "python3"
  },
  "language_info": {
   "codemirror_mode": {
    "name": "ipython",
    "version": 3
   },
   "file_extension": ".py",
   "mimetype": "text/x-python",
   "name": "python",
   "nbconvert_exporter": "python",
   "pygments_lexer": "ipython3",
   "version": "3.7.9"
  },
  "papermill": {
   "default_parameters": {},
   "duration": 12.610964,
   "end_time": "2021-03-14T17:32:11.371594",
   "environment_variables": {},
   "exception": null,
   "input_path": "__notebook__.ipynb",
   "output_path": "__notebook__.ipynb",
   "parameters": {},
   "start_time": "2021-03-14T17:31:58.760630",
   "version": "2.2.2"
  }
 },
 "nbformat": 4,
 "nbformat_minor": 4
}
